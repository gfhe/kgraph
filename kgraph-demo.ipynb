{
 "cells": [
  {
   "cell_type": "markdown",
   "metadata": {},
   "source": [
    "## 编译打包"
   ]
  },
  {
   "cell_type": "code",
   "execution_count": null,
   "metadata": {},
   "outputs": [],
   "source": [
    "!sh init.sh"
   ]
  },
  {
   "cell_type": "markdown",
   "metadata": {},
   "source": [
    "## 上传 wheel 到pipy\n",
    "\n",
    "\n",
    "可能出现的错误：\n",
    "1. 上传时，报错：“Binary wheel 'pykgraph-0.0.1-cp310-cp310-linux_x86_64.whl' has an unsupported platform tag 'linux_x86_64'.” \n",
    "    解决办法：使用manylinux docker镜像重新构建wheel上传\n",
    "    ```Dockerfile\n",
    "    FROM quay.io/pypa/manylinux2014_x86_64\n",
    "\n",
    "    # 安装构建所需的依赖\n",
    "    RUN yum install -y <your-dependencies>\n",
    "\n",
    "    # 设置工作目录\n",
    "    WORKDIR /app\n",
    "\n",
    "    # 复制项目文件到容器中\n",
    "    COPY . /app\n",
    "\n",
    "    # 构建Wheel文件\n",
    "    RUN python setup.py bdist_wheel\n",
    "    ```\n",
    "2. "
   ]
  },
  {
   "cell_type": "code",
   "execution_count": 5,
   "metadata": {},
   "outputs": [
    {
     "name": "stdout",
     "output_type": "stream",
     "text": [
      "Requirement already satisfied: twine in /usr/local/python/3.10.8/lib/python3.10/site-packages (4.0.2)\n",
      "Requirement already satisfied: pkginfo>=1.8.1 in /usr/local/python/3.10.8/lib/python3.10/site-packages (from twine) (1.9.6)\n",
      "Requirement already satisfied: readme-renderer>=35.0 in /usr/local/python/3.10.8/lib/python3.10/site-packages (from twine) (41.0)\n",
      "Requirement already satisfied: requests>=2.20 in /home/codespace/.local/lib/python3.10/site-packages (from twine) (2.31.0)\n",
      "Requirement already satisfied: requests-toolbelt!=0.9.0,>=0.8.0 in /usr/local/python/3.10.8/lib/python3.10/site-packages (from twine) (1.0.0)\n",
      "Requirement already satisfied: urllib3>=1.26.0 in /home/codespace/.local/lib/python3.10/site-packages (from twine) (2.0.4)\n",
      "Requirement already satisfied: importlib-metadata>=3.6 in /usr/local/python/3.10.8/lib/python3.10/site-packages (from twine) (6.8.0)\n",
      "Requirement already satisfied: keyring>=15.1 in /usr/local/python/3.10.8/lib/python3.10/site-packages (from twine) (24.2.0)\n",
      "Requirement already satisfied: rfc3986>=1.4.0 in /usr/local/python/3.10.8/lib/python3.10/site-packages (from twine) (2.0.0)\n",
      "Requirement already satisfied: rich>=12.0.0 in /usr/local/python/3.10.8/lib/python3.10/site-packages (from twine) (13.5.2)\n",
      "Requirement already satisfied: zipp>=0.5 in /usr/local/python/3.10.8/lib/python3.10/site-packages (from importlib-metadata>=3.6->twine) (3.16.2)\n",
      "Requirement already satisfied: jaraco.classes in /usr/local/python/3.10.8/lib/python3.10/site-packages (from keyring>=15.1->twine) (3.3.0)\n",
      "Requirement already satisfied: SecretStorage>=3.2 in /usr/local/python/3.10.8/lib/python3.10/site-packages (from keyring>=15.1->twine) (3.3.3)\n",
      "Requirement already satisfied: jeepney>=0.4.2 in /usr/local/python/3.10.8/lib/python3.10/site-packages (from keyring>=15.1->twine) (0.8.0)\n",
      "Requirement already satisfied: bleach>=2.1.0 in /home/codespace/.local/lib/python3.10/site-packages (from readme-renderer>=35.0->twine) (6.0.0)\n",
      "Requirement already satisfied: docutils>=0.13.1 in /usr/local/python/3.10.8/lib/python3.10/site-packages (from readme-renderer>=35.0->twine) (0.20.1)\n",
      "Requirement already satisfied: Pygments>=2.5.1 in /home/codespace/.local/lib/python3.10/site-packages (from readme-renderer>=35.0->twine) (2.16.1)\n",
      "Requirement already satisfied: charset-normalizer<4,>=2 in /home/codespace/.local/lib/python3.10/site-packages (from requests>=2.20->twine) (3.2.0)\n",
      "Requirement already satisfied: idna<4,>=2.5 in /home/codespace/.local/lib/python3.10/site-packages (from requests>=2.20->twine) (3.4)\n",
      "Requirement already satisfied: certifi>=2017.4.17 in /home/codespace/.local/lib/python3.10/site-packages (from requests>=2.20->twine) (2023.7.22)\n",
      "Requirement already satisfied: markdown-it-py>=2.2.0 in /usr/local/python/3.10.8/lib/python3.10/site-packages (from rich>=12.0.0->twine) (3.0.0)\n",
      "Requirement already satisfied: six>=1.9.0 in /home/codespace/.local/lib/python3.10/site-packages (from bleach>=2.1.0->readme-renderer>=35.0->twine) (1.16.0)\n",
      "Requirement already satisfied: webencodings in /home/codespace/.local/lib/python3.10/site-packages (from bleach>=2.1.0->readme-renderer>=35.0->twine) (0.5.1)\n",
      "Requirement already satisfied: mdurl~=0.1 in /usr/local/python/3.10.8/lib/python3.10/site-packages (from markdown-it-py>=2.2.0->rich>=12.0.0->twine) (0.1.2)\n",
      "Requirement already satisfied: cryptography>=2.0 in /home/codespace/.local/lib/python3.10/site-packages (from SecretStorage>=3.2->keyring>=15.1->twine) (41.0.3)\n",
      "Requirement already satisfied: more-itertools in /usr/local/python/3.10.8/lib/python3.10/site-packages (from jaraco.classes->keyring>=15.1->twine) (10.1.0)\n",
      "Requirement already satisfied: cffi>=1.12 in /home/codespace/.local/lib/python3.10/site-packages (from cryptography>=2.0->SecretStorage>=3.2->keyring>=15.1->twine) (1.15.1)\n",
      "Requirement already satisfied: pycparser in /home/codespace/.local/lib/python3.10/site-packages (from cffi>=1.12->cryptography>=2.0->SecretStorage>=3.2->keyring>=15.1->twine) (2.21)\n"
     ]
    }
   ],
   "source": [
    "!pip install twine\n",
    "\n",
    "# 安装完成后，使用如下的命令上传wheel 到pipy \n",
    "# twine upload dist/* "
   ]
  },
  {
   "cell_type": "markdown",
   "metadata": {},
   "source": [
    "## 测试kgraph python api"
   ]
  },
  {
   "cell_type": "code",
   "execution_count": 1,
   "metadata": {},
   "outputs": [
    {
     "name": "stderr",
     "output_type": "stream",
     "text": [
      "Generating control...\n",
      "Initializing...\n",
      "iteration: 1 recall: 0.0032 accuracy: 1.54893 cost: 0.00380004 M: 10 delta: 1 time: 1.1136 one-recall: 0 one-ratio: 2.47247\n",
      "iteration: 2 recall: 0.0276 accuracy: 0.911731 cost: 0.00596146 M: 10 delta: 0.767592 time: 1.76081 one-recall: 0.03 one-ratio: 1.80445\n",
      "iteration: 3 recall: 0.1264 accuracy: 0.44105 cost: 0.00983024 M: 12.5905 delta: 0.763926 time: 2.54798 one-recall: 0.18 one-ratio: 1.35835\n",
      "iteration: 4 recall: 0.41 accuracy: 0.164649 cost: 0.0139892 M: 12.8554 delta: 0.679023 time: 3.27701 one-recall: 0.41 one-ratio: 1.13389\n",
      "iteration: 5 recall: 0.7292 accuracy: 0.0434543 cost: 0.0184702 M: 14.5543 delta: 0.493892 time: 4.00186 one-recall: 0.84 one-ratio: 1.02509\n",
      "iteration: 6 recall: 0.924 accuracy: 0.00736505 cost: 0.024376 M: 20.1104 delta: 0.236886 time: 4.79448 one-recall: 0.98 one-ratio: 1.00175\n",
      "iteration: 7 recall: 0.9772 accuracy: 0.00151333 cost: 0.0319479 M: 27.8816 delta: 0.0731787 time: 5.67472 one-recall: 1 one-ratio: 1\n",
      "iteration: 8 recall: 0.994 accuracy: 0.000326944 cost: 0.0380106 M: 32.4369 delta: 0.0267728 time: 6.27596 one-recall: 1 one-ratio: 1\n",
      "Graph completion with reverse edges...\n",
      "Reranking edges...\n"
     ]
    }
   ],
   "source": [
    "from numpy import random\n",
    "import kgraph\n",
    "\n",
    "dataset = random.rand(100000, 16)\n",
    "query = random.rand(1000, 16)\n",
    "\n",
    "index = kgraph.KGraph(dataset, 'euclidean')  # another option is 'angular'\n",
    "index.build(reverse=-1)                        #\n",
    "index.save(\"index_file.kgraph\");\n",
    "# load with index.load(\"index_file\");\n",
    "\n",
    "# knn = index.search(query, K=10)                       # this uses all CPU threads\n",
    "# knn = index.search(query, K=10, threads=1)            # one thread, slower\n",
    "# knn = index.search(query, K=1000, P=100)              # search for 1000-nn, no need to recompute index."
   ]
  },
  {
   "cell_type": "markdown",
   "metadata": {},
   "source": [
    "## 构建数据集的索引\n",
    "\n",
    "每个数据集构建 10k, 1m 和完整的kgraph 索引。\n",
    "\n",
    "数据集情况：\n",
    "\n",
    "| 数据集    | 数据量 | dim | 测试量     |\n",
    "|--------|-----|-----|---------|\n",
    "| glove  | 50K | 50  | 10000   |\n",
    "| deep1B | 10M |     |         |\n",
    "| sift1M | 1M  | 128 | 1000000 |\n"
   ]
  },
  {
   "cell_type": "code",
   "execution_count": 4,
   "metadata": {},
   "outputs": [
    {
     "name": "stdout",
     "output_type": "stream",
     "text": [
      "Cloning into 'sift1m'...\n"
     ]
    },
    {
     "name": "stdout",
     "output_type": "stream",
     "text": [
      "remote: Enumerating objects: 14, done.\u001b[K\n",
      "remote: Counting objects: 100% (14/14), done.\u001b[K\n",
      "remote: Compressing objects: 100% (13/13), done.\u001b[K\n",
      "remote: Total 14 (delta 2), reused 0 (delta 0), pack-reused 0\u001b[K\n",
      "Unpacking objects: 100% (14/14), 2.03 KiB | 1.01 MiB/s, done.\n",
      "Filtering content: 100% (4/4), 550.08 MiB | 28.06 MiB/s, done.\n"
     ]
    }
   ],
   "source": [
    "# 下载数据集\n",
    "# !git clone https://huggingface.co/datasets/qbo-odp/deep1B\n",
    "!git clone https://huggingface.co/datasets/qbo-odp/sift1m"
   ]
  },
  {
   "cell_type": "markdown",
   "metadata": {},
   "source": [
    "### glove\n",
    "\n",
    "```python\n",
    "from gensim.models import KeyedVectors\n",
    "model = KeyedVectors.load_word2vec_format(os.path.join(DATA_PATH, 'glove_50k_50.txt'))\n",
    "```"
   ]
  },
  {
   "cell_type": "markdown",
   "metadata": {},
   "source": [
    "### deep1B"
   ]
  },
  {
   "cell_type": "code",
   "execution_count": 1,
   "metadata": {},
   "outputs": [],
   "source": [
    "def read_fbin(filename, start_idx=0, chunk_size=None):\n",
    "    \"\"\" Read *.fbin file that contains float32 vectors\n",
    "    Args:\n",
    "        :param filename (str): path to *.fbin file\n",
    "        :param start_idx (int): start reading vectors from this index\n",
    "        :param chunk_size (int): number of vectors to read.\n",
    "                                 If None, read all vectors\n",
    "    Returns:\n",
    "        Array of float32 vectors (numpy.ndarray)\n",
    "    \"\"\"\n",
    "    with open(filename, \"rb\") as f:\n",
    "        nvecs, dim = np.fromfile(f, count=2, dtype=np.int32)\n",
    "        nvecs = (nvecs - start_idx) if chunk_size is None else chunk_size\n",
    "        arr = np.fromfile(f, count=nvecs * dim, dtype=np.float32,\n",
    "                          offset=start_idx * 4 * dim)\n",
    "    return arr.reshape(nvecs, dim)\n",
    "\n",
    "\n",
    "# 读取数据\n",
    "# chunk_size = 50000\n",
    "# dataset = read_fbin('deep1B/base.10M.fbin', chunk_size=chunk_size)"
   ]
  },
  {
   "cell_type": "markdown",
   "metadata": {},
   "source": [
    "### sift1M"
   ]
  },
  {
   "cell_type": "code",
   "execution_count": 2,
   "metadata": {},
   "outputs": [],
   "source": [
    "def ivecs_read(fname):\n",
    "    a = np.fromfile(fname, dtype='int32')\n",
    "    d = a[0]\n",
    "    return a.reshape(-1, d + 1)[:, 1:].copy()\n",
    "\n",
    "\n",
    "def fvecs_read(fname):\n",
    "    return ivecs_read(fname).view('float32')\n",
    "\n",
    "# 读取数据\n",
    "#sift = fvecs_read(os.path.join(DATA_PATH, 'sift_base.fvecs'))"
   ]
  },
  {
   "cell_type": "markdown",
   "metadata": {},
   "source": [
    "### 构建索引"
   ]
  },
  {
   "cell_type": "code",
   "execution_count": 3,
   "metadata": {},
   "outputs": [
    {
     "name": "stdout",
     "output_type": "stream",
     "text": [
      "dataset info: shape=(10000, 128)\n"
     ]
    },
    {
     "name": "stderr",
     "output_type": "stream",
     "text": [
      "Generating control...\n",
      "Initializing...\n",
      "iteration: 1 recall: 0.0348 accuracy: 0.982831 cost: 0.0380038 M: 10 delta: 1 time: 0.106101 one-recall: 0.01 one-ratio: 2.33575\n",
      "iteration: 2 recall: 0.2876 accuracy: 0.29036 cost: 0.0641303 M: 10 delta: 0.839039 time: 0.188901 one-recall: 0.37 one-ratio: 1.49633\n",
      "iteration: 3 recall: 0.7856 accuracy: 0.0317521 cost: 0.10938 M: 11.7611 delta: 0.660866 time: 0.281586 one-recall: 0.85 one-ratio: 1.09834\n",
      "iteration: 4 recall: 0.9576 accuracy: 0.00237081 cost: 0.171997 M: 15.1766 delta: 0.329421 time: 0.393512 one-recall: 1 one-ratio: 1\n",
      "iteration: 5 recall: 0.9876 accuracy: 0.000566841 cost: 0.244029 M: 21.4741 delta: 0.123291 time: 0.493915 one-recall: 1 one-ratio: 1\n",
      "iteration: 6 recall: 0.9928 accuracy: 0.000352397 cost: 0.279635 M: 23.8449 delta: 0.0947159 time: 0.536759 one-recall: 1 one-ratio: 1\n",
      "Graph completion with reverse edges...\n",
      "Reranking edges...\n"
     ]
    },
    {
     "name": "stdout",
     "output_type": "stream",
     "text": [
      "dataset info: shape=(1000000, 128)\n"
     ]
    },
    {
     "name": "stderr",
     "output_type": "stream",
     "text": [
      "Generating control...\n",
      "Initializing...\n",
      "iteration: 1 recall: 0.0016 accuracy: 1.68825 cost: 0.00038 M: 10 delta: 1 time: 13.5139 one-recall: 0 one-ratio: 2.90427\n",
      "iteration: 2 recall: 0.004 accuracy: 0.987917 cost: 0.000637314 M: 10 delta: 0.855938 time: 22.7597 one-recall: 0.01 one-ratio: 2.4079\n",
      "iteration: 3 recall: 0.0296 accuracy: 0.557211 cost: 0.00109502 M: 11.5298 delta: 0.835078 time: 33.6624 one-recall: 0.02 one-ratio: 1.97366\n",
      "iteration: 4 recall: 0.156 accuracy: 0.290958 cost: 0.00163026 M: 11.8382 delta: 0.783594 time: 44.7212 one-recall: 0.23 one-ratio: 1.61438\n",
      "iteration: 5 recall: 0.446 accuracy: 0.11768 cost: 0.00223542 M: 12.5962 delta: 0.664658 time: 55.6918 one-recall: 0.49 one-ratio: 1.31\n",
      "iteration: 6 recall: 0.7172 accuracy: 0.035269 cost: 0.00297849 M: 15.1132 delta: 0.432613 time: 67.6699 one-recall: 0.84 one-ratio: 1.07438\n",
      "iteration: 7 recall: 0.862 accuracy: 0.0114052 cost: 0.00395442 M: 21.1329 delta: 0.196602 time: 83.7692 one-recall: 0.94 one-ratio: 1.01487\n",
      "iteration: 8 recall: 0.9356 accuracy: 0.0037739 cost: 0.0049797 M: 27.3044 delta: 0.0885091 time: 96.9095 one-recall: 0.98 one-ratio: 1.00101\n",
      "iteration: 9 recall: 0.962 accuracy: 0.00191981 cost: 0.00577392 M: 31.2996 delta: 0.0514555 time: 107.069 one-recall: 0.99 one-ratio: 1.00042\n",
      "iteration: 10 recall: 0.9712 accuracy: 0.00150542 cost: 0.00626157 M: 33.4175 delta: 0.0371329 time: 114.067 one-recall: 0.99 one-ratio: 1.00042\n",
      "iteration: 11 recall: 0.9752 accuracy: 0.0012236 cost: 0.00651925 M: 34.4491 delta: 0.0311919 time: 118.473 one-recall: 1 one-ratio: 1\n",
      "iteration: 12 recall: 0.9768 accuracy: 0.00108314 cost: 0.00664778 M: 34.9442 delta: 0.0286235 time: 121.669 one-recall: 1 one-ratio: 1\n",
      "iteration: 13 recall: 0.9788 accuracy: 0.000984068 cost: 0.00671013 M: 35.1807 delta: 0.0274447 time: 124.463 one-recall: 1 one-ratio: 1\n",
      "iteration: 14 recall: 0.9792 accuracy: 0.000962846 cost: 0.00674025 M: 35.2929 delta: 0.0269184 time: 126.367 one-recall: 1 one-ratio: 1\n",
      "iteration: 15 recall: 0.9792 accuracy: 0.000962846 cost: 0.00675534 M: 35.349 delta: 0.026656 time: 127.545 one-recall: 1 one-ratio: 1\n",
      "iteration: 16 recall: 0.9792 accuracy: 0.000962846 cost: 0.00676268 M: 35.3762 delta: 0.0265285 time: 128.503 one-recall: 1 one-ratio: 1\n",
      "iteration: 17 recall: 0.9792 accuracy: 0.000962846 cost: 0.00676638 M: 35.3904 delta: 0.0264662 time: 129.461 one-recall: 1 one-ratio: 1\n",
      "iteration: 18 recall: 0.9792 accuracy: 0.000962846 cost: 0.00676818 M: 35.3974 delta: 0.026435 time: 130.296 one-recall: 1 one-ratio: 1\n",
      "iteration: 19 recall: 0.9792 accuracy: 0.000962846 cost: 0.00676913 M: 35.401 delta: 0.0264193 time: 131.127 one-recall: 1 one-ratio: 1\n",
      "iteration: 20 recall: 0.9792 accuracy: 0.000962846 cost: 0.00676965 M: 35.403 delta: 0.0264112 time: 131.948 one-recall: 1 one-ratio: 1\n",
      "iteration: 21 recall: 0.9792 accuracy: 0.000962846 cost: 0.00676988 M: 35.4038 delta: 0.026408 time: 132.787 one-recall: 1 one-ratio: 1\n",
      "iteration: 22 recall: 0.9792 accuracy: 0.000962846 cost: 0.00677001 M: 35.4043 delta: 0.0264051 time: 133.631 one-recall: 1 one-ratio: 1\n",
      "iteration: 23 recall: 0.9792 accuracy: 0.000962846 cost: 0.00677009 M: 35.4047 delta: 0.0264043 time: 134.441 one-recall: 1 one-ratio: 1\n",
      "iteration: 24 recall: 0.9792 accuracy: 0.000962846 cost: 0.00677013 M: 35.4049 delta: 0.0264032 time: 135.294 one-recall: 1 one-ratio: 1\n",
      "iteration: 25 recall: 0.9792 accuracy: 0.000962846 cost: 0.00677015 M: 35.4049 delta: 0.0264029 time: 136.126 one-recall: 1 one-ratio: 1\n",
      "iteration: 26 recall: 0.9792 accuracy: 0.000962846 cost: 0.00677016 M: 35.405 delta: 0.026403 time: 137.088 one-recall: 1 one-ratio: 1\n",
      "iteration: 27 recall: 0.9792 accuracy: 0.000962846 cost: 0.00677016 M: 35.405 delta: 0.0264029 time: 137.904 one-recall: 1 one-ratio: 1\n",
      "iteration: 28 recall: 0.9792 accuracy: 0.000962846 cost: 0.00677016 M: 35.405 delta: 0.0264029 time: 139.044 one-recall: 1 one-ratio: 1\n",
      "iteration: 29 recall: 0.9792 accuracy: 0.000962846 cost: 0.00677016 M: 35.405 delta: 0.0264029 time: 140.392 one-recall: 1 one-ratio: 1\n",
      "iteration: 30 recall: 0.9792 accuracy: 0.000962846 cost: 0.00677016 M: 35.405 delta: 0.0264029 time: 142.085 one-recall: 1 one-ratio: 1\n",
      "Graph completion with reverse edges...\n",
      "Reranking edges...\n"
     ]
    },
    {
     "name": "stdout",
     "output_type": "stream",
     "text": [
      "dataset info: shape=(1000000, 128)\n"
     ]
    },
    {
     "name": "stderr",
     "output_type": "stream",
     "text": [
      "Generating control...\n",
      "Initializing...\n",
      "iteration: 1 recall: 0 accuracy: 2.00847 cost: 0.00038 M: 10 delta: 1 time: 18.4602 one-recall: 0 one-ratio: 3.78706\n",
      "iteration: 2 recall: 0.0016 accuracy: 1.20006 cost: 0.000637314 M: 10 delta: 0.855938 time: 32.3354 one-recall: 0 one-ratio: 3.01121\n",
      "iteration: 3 recall: 0.0388 accuracy: 0.701686 cost: 0.00109502 M: 11.5298 delta: 0.835085 time: 45.8561 one-recall: 0.03 one-ratio: 2.35646\n",
      "iteration: 4 recall: 0.17 accuracy: 0.37186 cost: 0.00163027 M: 11.8382 delta: 0.783593 time: 59.83 one-recall: 0.24 one-ratio: 1.84663\n",
      "iteration: 5 recall: 0.492 accuracy: 0.122261 cost: 0.00223552 M: 12.5964 delta: 0.664666 time: 71.4503 one-recall: 0.65 one-ratio: 1.29555\n",
      "iteration: 6 recall: 0.7608 accuracy: 0.0304291 cost: 0.0029785 M: 15.1123 delta: 0.432582 time: 85.864 one-recall: 0.87 one-ratio: 1.06974\n",
      "iteration: 7 recall: 0.8952 accuracy: 0.0111428 cost: 0.00395428 M: 21.1326 delta: 0.196567 time: 99.7804 one-recall: 0.94 one-ratio: 1.03465\n",
      "iteration: 8 recall: 0.94 accuracy: 0.00504682 cost: 0.00497999 M: 27.3067 delta: 0.0885029 time: 113.302 one-recall: 0.99 one-ratio: 1.01013\n",
      "iteration: 9 recall: 0.9632 accuracy: 0.0022286 cost: 0.00577378 M: 31.3006 delta: 0.0513514 time: 123.812 one-recall: 1 one-ratio: 1\n",
      "iteration: 10 recall: 0.9736 accuracy: 0.00138615 cost: 0.00625947 M: 33.4133 delta: 0.0371131 time: 131.249 one-recall: 1 one-ratio: 1\n",
      "iteration: 11 recall: 0.9784 accuracy: 0.00100834 cost: 0.00651817 M: 34.4494 delta: 0.0311955 time: 136.044 one-recall: 1 one-ratio: 1\n",
      "iteration: 12 recall: 0.98 accuracy: 0.000940488 cost: 0.00664732 M: 34.9457 delta: 0.0286107 time: 139.174 one-recall: 1 one-ratio: 1\n",
      "iteration: 13 recall: 0.98 accuracy: 0.000940488 cost: 0.00670967 M: 35.1815 delta: 0.0274411 time: 141.223 one-recall: 1 one-ratio: 1\n",
      "iteration: 14 recall: 0.9808 accuracy: 0.000896192 cost: 0.00674023 M: 35.2954 delta: 0.0269034 time: 142.717 one-recall: 1 one-ratio: 1\n",
      "iteration: 15 recall: 0.9808 accuracy: 0.000896192 cost: 0.00675535 M: 35.3521 delta: 0.0266399 time: 143.895 one-recall: 1 one-ratio: 1\n",
      "iteration: 16 recall: 0.9808 accuracy: 0.000896192 cost: 0.00676278 M: 35.38 delta: 0.0265066 time: 144.93 one-recall: 1 one-ratio: 1\n",
      "iteration: 17 recall: 0.9808 accuracy: 0.000896192 cost: 0.00676655 M: 35.3938 delta: 0.0264411 time: 145.941 one-recall: 1 one-ratio: 1\n",
      "iteration: 18 recall: 0.9808 accuracy: 0.000896192 cost: 0.00676836 M: 35.4006 delta: 0.0264146 time: 146.836 one-recall: 1 one-ratio: 1\n",
      "iteration: 19 recall: 0.9808 accuracy: 0.000896192 cost: 0.00676934 M: 35.4044 delta: 0.0263948 time: 147.715 one-recall: 1 one-ratio: 1\n",
      "iteration: 20 recall: 0.9808 accuracy: 0.000896192 cost: 0.00676984 M: 35.4062 delta: 0.0263867 time: 148.636 one-recall: 1 one-ratio: 1\n",
      "iteration: 21 recall: 0.9808 accuracy: 0.000896192 cost: 0.00677013 M: 35.4073 delta: 0.0263819 time: 149.489 one-recall: 1 one-ratio: 1\n",
      "iteration: 22 recall: 0.9808 accuracy: 0.000896192 cost: 0.0067703 M: 35.408 delta: 0.02638 time: 150.342 one-recall: 1 one-ratio: 1\n",
      "iteration: 23 recall: 0.9808 accuracy: 0.000896192 cost: 0.00677039 M: 35.4084 delta: 0.0263784 time: 151.198 one-recall: 1 one-ratio: 1\n",
      "iteration: 24 recall: 0.9808 accuracy: 0.000896192 cost: 0.00677046 M: 35.4086 delta: 0.0263774 time: 152.07 one-recall: 1 one-ratio: 1\n",
      "iteration: 25 recall: 0.9808 accuracy: 0.000896192 cost: 0.00677048 M: 35.4087 delta: 0.0263772 time: 152.916 one-recall: 1 one-ratio: 1\n",
      "iteration: 26 recall: 0.9808 accuracy: 0.000896192 cost: 0.00677052 M: 35.4089 delta: 0.0263767 time: 153.781 one-recall: 1 one-ratio: 1\n",
      "iteration: 27 recall: 0.9808 accuracy: 0.000896192 cost: 0.00677053 M: 35.4089 delta: 0.0263765 time: 154.643 one-recall: 1 one-ratio: 1\n",
      "iteration: 28 recall: 0.9808 accuracy: 0.000896192 cost: 0.00677054 M: 35.409 delta: 0.0263765 time: 155.516 one-recall: 1 one-ratio: 1\n",
      "iteration: 29 recall: 0.9808 accuracy: 0.000896192 cost: 0.00677054 M: 35.409 delta: 0.0263765 time: 156.492 one-recall: 1 one-ratio: 1\n",
      "iteration: 30 recall: 0.9808 accuracy: 0.000896192 cost: 0.00677055 M: 35.409 delta: 0.0263764 time: 157.407 one-recall: 1 one-ratio: 1\n",
      "Graph completion with reverse edges...\n",
      "Reranking edges...\n"
     ]
    }
   ],
   "source": [
    "import numpy as np\n",
    "import kgraph\n",
    "\n",
    "# 索引规模\n",
    "scale = [10_000, 1_000_000, -1]\n",
    "# data = ['glove', 'deep1b', 'sift1m']\n",
    "data = [ 'sift1m']\n",
    "\n",
    "for ins in data:\n",
    "    for sca in scale:\n",
    "        if 'sift1m' == ins:\n",
    "            dataset = fvecs_read('sift1m/sift_base.fvecs')\n",
    "        elif 'deep1b' == ins:\n",
    "            dataset = read_fbin('deep1B/base.10M.fbin', chunk_size=10000)\n",
    "\n",
    "        if sca != -1:\n",
    "            dataset = dataset[:sca, :]\n",
    "        print(f\"dataset info: shape={dataset.shape}\")\n",
    "        index = kgraph.KGraph(dataset, 'euclidean')  # another option is 'angular'\n",
    "        index.build(reverse=-1)                        #\n",
    "        index.save(\"index/%d-%s.idx\"%( 'all' if sca==-1 else sca, ins))"
   ]
  },
  {
   "cell_type": "code",
   "execution_count": 5,
   "metadata": {},
   "outputs": [
    {
     "name": "stdout",
     "output_type": "stream",
     "text": [
      "total 1.4G\n",
      "drwxrwxrwx+  2 codespace codespace 4.0K Aug 25 09:17 .\n",
      "drwxrwxrwx+ 15 codespace root      4.0K Aug 25 09:14 ..\n",
      "-rw-rw-rw-   1 codespace codespace 4.4M Aug 25 09:10 10000-sift1m.idx\n",
      "-rw-rw-rw-   1 codespace codespace 679M Aug 25 09:13 1000000-sift1m.idx\n",
      "-rw-rw-rw-   1 codespace codespace 679M Aug 25 09:15 all-sift1m.idx\n"
     ]
    }
   ],
   "source": [
    "!ls -alh index"
   ]
  },
  {
   "cell_type": "code",
   "execution_count": null,
   "metadata": {},
   "outputs": [],
   "source": []
  }
 ],
 "metadata": {
  "kernelspec": {
   "display_name": "Python 3",
   "language": "python",
   "name": "python3"
  },
  "language_info": {
   "codemirror_mode": {
    "name": "ipython",
    "version": 3
   },
   "file_extension": ".py",
   "mimetype": "text/x-python",
   "name": "python",
   "nbconvert_exporter": "python",
   "pygments_lexer": "ipython3",
   "version": "3.10.8"
  },
  "orig_nbformat": 4
 },
 "nbformat": 4,
 "nbformat_minor": 2
}
